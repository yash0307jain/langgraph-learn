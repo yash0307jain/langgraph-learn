{
 "cells": [
  {
   "cell_type": "markdown",
   "id": "5335ed2f",
   "metadata": {},
   "source": [
    "## Type Annotations\n"
   ]
  },
  {
   "cell_type": "markdown",
   "id": "39efeba3",
   "metadata": {},
   "source": [
    "#### Dictionary\n"
   ]
  },
  {
   "cell_type": "markdown",
   "id": "0cfc5a66",
   "metadata": {},
   "source": [
    "Normal Dictionary\n"
   ]
  },
  {
   "cell_type": "code",
   "execution_count": 17,
   "id": "2eb6b27f",
   "metadata": {},
   "outputs": [
    {
     "data": {
      "text/plain": [
       "'Avengers Endgame'"
      ]
     },
     "execution_count": 17,
     "metadata": {},
     "output_type": "execute_result"
    }
   ],
   "source": [
    "movie = {\"name\": \"Avengers Endgame\", \"year\": \"2019\"}\n",
    "\n",
    "movie[\"name\"]"
   ]
  },
  {
   "cell_type": "markdown",
   "id": "719c0638",
   "metadata": {},
   "source": [
    "Typed Dictionary\n"
   ]
  },
  {
   "cell_type": "code",
   "execution_count": null,
   "id": "ce66de9f",
   "metadata": {},
   "outputs": [],
   "source": [
    "from typing import TypedDict\n",
    "\n",
    "\n",
    "class Movie(TypedDict):\n",
    "    name: str\n",
    "    year: int\n",
    "\n",
    "\n",
    "movie = Movie(name=\"Avengers Endgame\", year=2019)"
   ]
  },
  {
   "cell_type": "markdown",
   "id": "f5ec872b",
   "metadata": {},
   "source": [
    "#### Union\n"
   ]
  },
  {
   "cell_type": "code",
   "execution_count": null,
   "id": "485799b6",
   "metadata": {},
   "outputs": [
    {
     "name": "stdout",
     "output_type": "stream",
     "text": [
      "25\n",
      "1.522756\n"
     ]
    },
    {
     "ename": "TypeError",
     "evalue": "can't multiply sequence by non-int of type 'str'",
     "output_type": "error",
     "traceback": [
      "\u001b[31m---------------------------------------------------------------------------\u001b[39m",
      "\u001b[31mTypeError\u001b[39m                                 Traceback (most recent call last)",
      "\u001b[36mCell\u001b[39m\u001b[36m \u001b[39m\u001b[32mIn[18]\u001b[39m\u001b[32m, line 8\u001b[39m\n\u001b[32m      6\u001b[39m \u001b[38;5;28mprint\u001b[39m(square(\u001b[32m5\u001b[39m))\n\u001b[32m      7\u001b[39m \u001b[38;5;28mprint\u001b[39m(square(\u001b[32m1.234\u001b[39m))\n\u001b[32m----> \u001b[39m\u001b[32m8\u001b[39m \u001b[38;5;28mprint\u001b[39m(\u001b[43msquare\u001b[49m\u001b[43m(\u001b[49m\u001b[33;43m\"\u001b[39;49m\u001b[33;43mIts a string\u001b[39;49m\u001b[33;43m\"\u001b[39;49m\u001b[43m)\u001b[49m)\n",
      "\u001b[36mCell\u001b[39m\u001b[36m \u001b[39m\u001b[32mIn[18]\u001b[39m\u001b[32m, line 4\u001b[39m, in \u001b[36msquare\u001b[39m\u001b[34m(x)\u001b[39m\n\u001b[32m      3\u001b[39m \u001b[38;5;28;01mdef\u001b[39;00m\u001b[38;5;250m \u001b[39m\u001b[34msquare\u001b[39m(x: Union[\u001b[38;5;28mint\u001b[39m, \u001b[38;5;28mfloat\u001b[39m]) -> Union[\u001b[38;5;28mint\u001b[39m, \u001b[38;5;28mfloat\u001b[39m]:\n\u001b[32m----> \u001b[39m\u001b[32m4\u001b[39m     \u001b[38;5;28;01mreturn\u001b[39;00m \u001b[43mx\u001b[49m\u001b[43m \u001b[49m\u001b[43m*\u001b[49m\u001b[43m \u001b[49m\u001b[43mx\u001b[49m\n",
      "\u001b[31mTypeError\u001b[39m: can't multiply sequence by non-int of type 'str'"
     ]
    }
   ],
   "source": [
    "from typing import Union\n",
    "\n",
    "\n",
    "def square(x: Union[int, float]) -> Union[int, float]:\n",
    "    return x * x\n",
    "\n",
    "\n",
    "print(square(5))\n",
    "print(square(1.234))\n",
    "print(square(\"Its a string\"))"
   ]
  },
  {
   "cell_type": "markdown",
   "id": "3cd34aef",
   "metadata": {},
   "source": [
    "#### Optional\n"
   ]
  },
  {
   "cell_type": "code",
   "execution_count": null,
   "id": "32f098f9",
   "metadata": {},
   "outputs": [
    {
     "name": "stdout",
     "output_type": "stream",
     "text": [
      "Hey random person!\n",
      "Hi there, Yash\n"
     ]
    }
   ],
   "source": [
    "from typing import Optional\n",
    "\n",
    "\n",
    "def nice_message(name: Optional[str]) -> None:\n",
    "    if name is None:\n",
    "        print(\"Hey random person!\")\n",
    "    else:\n",
    "        print(f\"Hi there, {name}\")\n",
    "\n",
    "\n",
    "nice_message(name=None)\n",
    "nice_message(name=\"Yash\")"
   ]
  },
  {
   "cell_type": "markdown",
   "id": "6ad9427d",
   "metadata": {},
   "source": [
    "#### Any\n"
   ]
  },
  {
   "cell_type": "code",
   "execution_count": null,
   "id": "53da7d69",
   "metadata": {},
   "outputs": [
    {
     "name": "stdout",
     "output_type": "stream",
     "text": [
      "I like to imagine, I'm having superpowers sometimes\n"
     ]
    }
   ],
   "source": [
    "from typing import Any\n",
    "\n",
    "\n",
    "def print_value(x: Any) -> None:\n",
    "    print(x)\n",
    "\n",
    "\n",
    "print_value(\"I like to imagine, I'm having superpowers sometimes\")"
   ]
  },
  {
   "cell_type": "markdown",
   "id": "a443756c",
   "metadata": {},
   "source": [
    "#### Lambda Functions\n"
   ]
  },
  {
   "cell_type": "code",
   "execution_count": 21,
   "id": "9071cf53",
   "metadata": {},
   "outputs": [
    {
     "name": "stdout",
     "output_type": "stream",
     "text": [
      "8\n"
     ]
    }
   ],
   "source": [
    "cube = lambda x: x * x * x\n",
    "\n",
    "print(cube(2))"
   ]
  },
  {
   "cell_type": "code",
   "execution_count": null,
   "id": "6c7c24a6",
   "metadata": {},
   "outputs": [
    {
     "name": "stdout",
     "output_type": "stream",
     "text": [
      "[1, 8, 27, 64]\n"
     ]
    }
   ],
   "source": [
    "nums = [1, 2, 3, 4]\n",
    "cubes = list(map(lambda x: x * x * x, nums))\n",
    "print(cubes)"
   ]
  },
  {
   "cell_type": "markdown",
   "id": "ee04a790",
   "metadata": {},
   "source": [
    "## LangGraph\n"
   ]
  },
  {
   "cell_type": "markdown",
   "id": "b744cdd6",
   "metadata": {},
   "source": [
    "#### Elements\n",
    "\n",
    "-   State: The **State** is a shared data structure that holds the current information or contect of the entire applications.\n",
    "-   Nodes: **Nodes** are individual functions or operations that perform specific taska within the graph.\n",
    "-   Graph: A **Graph** in LangGraph is the overarching structure that mps out how different taska (nodes) are connected and executed.\n",
    "-   Edge: **Edges** are the connections between nodes that determine the flow of execution.\n",
    "-   Conditional Edge: **Conditional Edges** are specialized connections that decide the next node to execute based on specific conditions or logic applied to the current state.\n",
    "-   START: The **START** node is a virtual entry point in LangGraph, marking where the workflow begins.\n",
    "-   END: The **END** node signifies the conclusion of the workflow in LangGraph.\n",
    "-   Tools: **Tools** are specialized functions or utilities that nodes can itilize to perform specific tasks such as fethcing data from an API.\n",
    "-   ToolNode: A **ToolNode** is just a special kind of node whose main job us to run a tool.\n",
    "-   StateGraph: A **StateGraph** is a class in LangGraph used to build and compile the graph structure.\n",
    "-   Runnable: A **Runnable** in LangGraph is a standardized, executable component that performs a specific task within an AI Workflow.\n"
   ]
  },
  {
   "cell_type": "markdown",
   "id": "da7dada3",
   "metadata": {},
   "source": [
    "#### Messages\n",
    "\n",
    "-   Human Message: Represents input from a user\n",
    "-   System Message: Used to provide instructions or context to the model\n",
    "-   Function Message: Represents the result of a function call\n",
    "-   AI Message: Represents responses generated by AI Models\n",
    "-   Tool Message: Similar to Function Message, but specific to tool usage\n"
   ]
  }
 ],
 "metadata": {
  "kernelspec": {
   "display_name": "langgraph-tutorial",
   "language": "python",
   "name": "python3"
  },
  "language_info": {
   "codemirror_mode": {
    "name": "ipython",
    "version": 3
   },
   "file_extension": ".py",
   "mimetype": "text/x-python",
   "name": "python",
   "nbconvert_exporter": "python",
   "pygments_lexer": "ipython3",
   "version": "3.13.5"
  }
 },
 "nbformat": 4,
 "nbformat_minor": 5
}
