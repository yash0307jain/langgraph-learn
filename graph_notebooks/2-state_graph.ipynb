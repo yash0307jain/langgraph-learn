{
 "cells": [
  {
   "cell_type": "markdown",
   "id": "4224d979",
   "metadata": {},
   "source": [
    "# State Graph\n",
    "\n",
    "---\n"
   ]
  },
  {
   "cell_type": "markdown",
   "id": "fcd111ad",
   "metadata": {},
   "source": [
    "## Graph 1\n",
    "\n",
    "Greeting Agent\n"
   ]
  },
  {
   "cell_type": "code",
   "execution_count": 3,
   "id": "5108396b",
   "metadata": {},
   "outputs": [],
   "source": [
    "from typing import TypedDict\n",
    "\n",
    "\n",
    "class AgentState(TypedDict):  # Our state schema\n",
    "    message: str\n",
    "\n",
    "\n",
    "def greeting_node(state: AgentState) -> AgentState:\n",
    "    \"\"\"Simple node that adds a greeting message to the state\"\"\"\n",
    "    state[\"message\"] = \"Hey \" + state[\"message\"] + \", how is your day going?\"\n",
    "    return state"
   ]
  },
  {
   "cell_type": "code",
   "execution_count": null,
   "id": "0b0ae91c",
   "metadata": {},
   "outputs": [],
   "source": [
    "from langgraph.graph import StateGraph\n",
    "\n",
    "\n",
    "graph = StateGraph(AgentState)\n",
    "\n",
    "# Add node to the graph\n",
    "graph.add_node(\"greeter\", greeting_node)\n",
    "\n",
    "# Add edges to the graph\n",
    "graph.set_entry_point(\"greeter\")\n",
    "graph.set_finish_point(\"greeter\")\n",
    "\n",
    "# Compile the graph\n",
    "app = graph.compile()"
   ]
  },
  {
   "cell_type": "code",
   "execution_count": 5,
   "id": "9dde19fb",
   "metadata": {},
   "outputs": [
    {
     "data": {
      "image/png": "[encoded data removed]",
      "text/plain": [
       "<IPython.core.display.Image object>"
      ]
     },
     "metadata": {},
     "output_type": "display_data"
    }
   ],
   "source": [
    "from IPython.display import Image, display\n",
    "\n",
    "display(Image(app.get_graph().draw_mermaid_png()))"
   ]
  },
  {
   "cell_type": "code",
   "execution_count": 6,
   "id": "ca6c0176",
   "metadata": {},
   "outputs": [],
   "source": [
    "result = app.invoke({\"message\": \"Yash\"})"
   ]
  },
  {
   "cell_type": "code",
   "execution_count": 7,
   "id": "63a37d2d",
   "metadata": {},
   "outputs": [
    {
     "data": {
      "text/plain": [
       "{'message': 'Hey Yash, how is your day going?'}"
      ]
     },
     "execution_count": 7,
     "metadata": {},
     "output_type": "execute_result"
    }
   ],
   "source": [
    "result"
   ]
  },
  {
   "cell_type": "markdown",
   "id": "0e973166",
   "metadata": {},
   "source": [
    "## Graph 2\n",
    "\n",
    "Multiple Input Agent\n"
   ]
  },
  {
   "cell_type": "code",
   "execution_count": 8,
   "id": "de9c7069",
   "metadata": {},
   "outputs": [],
   "source": [
    "from typing import TypedDict, List, Optional\n",
    "\n",
    "\n",
    "class AgentState(TypedDict):\n",
    "    values: List[int]\n",
    "    name: str\n",
    "    result: str\n",
    "\n",
    "\n",
    "def process_values(state: AgentState) -> AgentState:\n",
    "    \"\"\"This functions handles multiple different inputs\"\"\"\n",
    "    state[\"result\"] = f\"Hi, there, {state[\"name\"]}! Your sum = {sum(state[\"values\"])}\"\n",
    "    return state"
   ]
  },
  {
   "cell_type": "code",
   "execution_count": null,
   "id": "2f1385b1",
   "metadata": {},
   "outputs": [],
   "source": [
    "from langgraph.graph import StateGraph\n",
    "\n",
    "graph = StateGraph(AgentState)\n",
    "\n",
    "# Add node to the graph\n",
    "graph.add_node(\"processor\", process_values)\n",
    "\n",
    "# Add edges to the graph\n",
    "graph.set_entry_point(\"processor\")\n",
    "graph.set_finish_point(\"processor\")\n",
    "\n",
    "# Compile the graph\n",
    "app = graph.compile()"
   ]
  },
  {
   "cell_type": "code",
   "execution_count": 10,
   "id": "c14f9fd2",
   "metadata": {},
   "outputs": [
    {
     "data": {
      "image/png": "[encoded data removed]",
      "text/plain": [
       "<IPython.core.display.Image object>"
      ]
     },
     "metadata": {},
     "output_type": "display_data"
    }
   ],
   "source": [
    "from IPython.display import Image, display\n",
    "\n",
    "display(Image(app.get_graph().draw_mermaid_png()))"
   ]
  },
  {
   "cell_type": "code",
   "execution_count": 11,
   "id": "e5ad72c1",
   "metadata": {},
   "outputs": [],
   "source": [
    "result = app.invoke(AgentState(values=[1, 2, 3, 4], name=\"Yash\"))\n",
    "# or\n",
    "# result = app.invoke({\"values\": [1, 2, 3, 4], \"name\": \"Yash\"})"
   ]
  },
  {
   "cell_type": "code",
   "execution_count": 12,
   "id": "13f111ca",
   "metadata": {},
   "outputs": [
    {
     "data": {
      "text/plain": [
       "{'values': [1, 2, 3, 4],\n",
       " 'name': 'Yash',\n",
       " 'result': 'Hi, there, Yash! Your sum = 10'}"
      ]
     },
     "execution_count": 12,
     "metadata": {},
     "output_type": "execute_result"
    }
   ],
   "source": [
    "result"
   ]
  },
  {
   "cell_type": "code",
   "execution_count": 13,
   "id": "bf5681e3",
   "metadata": {},
   "outputs": [
    {
     "data": {
      "text/plain": [
       "'Hi, there, Yash! Your sum = 10'"
      ]
     },
     "execution_count": 13,
     "metadata": {},
     "output_type": "execute_result"
    }
   ],
   "source": [
    "result[\"result\"]"
   ]
  },
  {
   "cell_type": "markdown",
   "id": "6eecd7a8",
   "metadata": {},
   "source": [
    "## Graph 3\n",
    "\n",
    "Multiple Input Agent with If-else\n"
   ]
  },
  {
   "cell_type": "code",
   "execution_count": 14,
   "id": "cd919482",
   "metadata": {},
   "outputs": [],
   "source": [
    "from typing import TypedDict, List, Literal\n",
    "from math import prod\n",
    "\n",
    "\n",
    "class AgentState(TypedDict):\n",
    "    name: str\n",
    "    values: List[int]\n",
    "    operation: Literal[\"+\", \"*\"]\n",
    "    answer: int\n",
    "    result: str\n",
    "\n",
    "\n",
    "def process_operation(state: AgentState) -> AgentState:\n",
    "    \"\"\"This node with going to perform the operation based on operator\"\"\"\n",
    "    if state[\"operation\"] == \"+\":\n",
    "        state[\"answer\"] = sum(state[\"values\"])\n",
    "    elif state[\"operation\"] == \"*\":\n",
    "        state[\"answer\"] = prod(state[\"values\"])\n",
    "    else:\n",
    "        raise ValueError(\n",
    "            f\"Operation provided is wrong, operation provided: {state[\"operation\"]}, acceptable operations: [+, *]\"\n",
    "        )\n",
    "\n",
    "    state[\"result\"] = f\"Hi {state[\"name\"]}, your answer is: {state[\"answer\"]}\"\n",
    "    return state"
   ]
  },
  {
   "cell_type": "code",
   "execution_count": null,
   "id": "1cb90b04",
   "metadata": {},
   "outputs": [],
   "source": [
    "from langgraph.graph import StateGraph\n",
    "\n",
    "graph = StateGraph(AgentState)\n",
    "\n",
    "# Add node to the graph\n",
    "graph.add_node(\"operator\", process_operation)\n",
    "\n",
    "# Add edges to the graph\n",
    "graph.set_entry_point(\"operator\")\n",
    "graph.set_finish_point(\"operator\")\n",
    "\n",
    "# Compile the graph\n",
    "app = graph.compile()"
   ]
  },
  {
   "cell_type": "code",
   "execution_count": 16,
   "id": "a5147d8f",
   "metadata": {},
   "outputs": [
    {
     "data": {
      "image/png": "[encoded data removed]",
      "text/plain": [
       "<IPython.core.display.Image object>"
      ]
     },
     "metadata": {},
     "output_type": "display_data"
    }
   ],
   "source": [
    "from IPython.display import Image, display\n",
    "\n",
    "display(Image(app.get_graph().draw_mermaid_png()))"
   ]
  },
  {
   "cell_type": "code",
   "execution_count": 17,
   "id": "3f9934b9",
   "metadata": {},
   "outputs": [],
   "source": [
    "result = app.invoke({\"name\": \"Yash\", \"values\": [1, 2, 3, 4], \"operation\": \"+\"})"
   ]
  },
  {
   "cell_type": "code",
   "execution_count": 18,
   "id": "84199942",
   "metadata": {},
   "outputs": [
    {
     "data": {
      "text/plain": [
       "{'name': 'Yash',\n",
       " 'values': [1, 2, 3, 4],\n",
       " 'operation': '+',\n",
       " 'answer': 10,\n",
       " 'result': 'Hi Yash, your answer is: 10'}"
      ]
     },
     "execution_count": 18,
     "metadata": {},
     "output_type": "execute_result"
    }
   ],
   "source": [
    "result"
   ]
  }
 ],
 "metadata": {
  "kernelspec": {
   "display_name": "langgraph-tutorial",
   "language": "python",
   "name": "python3"
  },
  "language_info": {
   "codemirror_mode": {
    "name": "ipython",
    "version": 3
   },
   "file_extension": ".py",
   "mimetype": "text/x-python",
   "name": "python",
   "nbconvert_exporter": "python",
   "pygments_lexer": "ipython3",
   "version": "3.13.5"
  }
 },
 "nbformat": 4,
 "nbformat_minor": 5
}
