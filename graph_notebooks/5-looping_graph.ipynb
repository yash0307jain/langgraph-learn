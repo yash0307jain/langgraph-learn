{
 "cells": [
  {
   "cell_type": "markdown",
   "id": "a0e28117",
   "metadata": {},
   "source": [
    "# Looping Graph\n",
    "\n",
    "---\n"
   ]
  },
  {
   "cell_type": "markdown",
   "id": "cc140fcb",
   "metadata": {},
   "source": [
    "## Graph 1\n"
   ]
  },
  {
   "cell_type": "code",
   "execution_count": 1,
   "id": "eac62c7e",
   "metadata": {},
   "outputs": [],
   "source": [
    "from typing import TypedDict, List\n",
    "\n",
    "\n",
    "class AgentState(TypedDict):\n",
    "    name: str\n",
    "    number: List[int]\n",
    "    counter: int"
   ]
  },
  {
   "cell_type": "code",
   "execution_count": 2,
   "id": "9547f84d",
   "metadata": {},
   "outputs": [],
   "source": [
    "import random\n",
    "\n",
    "\n",
    "def greeting_node(state: AgentState) -> AgentState:\n",
    "    \"\"\"Greeting Node which says hi to the person\"\"\"\n",
    "\n",
    "    state[\"name\"] = f\"Hi there, {state[\"name\"]}\"\n",
    "    state[\"counter\"] = 0\n",
    "    state[\"number\"] = []\n",
    "    return state\n",
    "\n",
    "\n",
    "def random_node(state: AgentState) -> AgentState:\n",
    "    \"\"\"Generated a random number from 0 to 10\"\"\"\n",
    "\n",
    "    state[\"number\"].append(random.randint(0, 10))\n",
    "    state[\"counter\"] += 1\n",
    "    return state\n",
    "\n",
    "\n",
    "def should_continue(state: AgentState) -> str:\n",
    "    \"\"\"Function to decide what to do next\"\"\"\n",
    "\n",
    "    if state[\"counter\"] < 5:\n",
    "        print(\"ENTERING LOOP\", state[\"counter\"])\n",
    "        return \"loop\"\n",
    "    else:\n",
    "        return \"exit\""
   ]
  },
  {
   "cell_type": "code",
   "execution_count": 3,
   "id": "b08a0ba5",
   "metadata": {},
   "outputs": [],
   "source": [
    "from langgraph.graph import StateGraph, START, END\n",
    "\n",
    "graph = StateGraph(AgentState)\n",
    "\n",
    "# Add nodes to the graph\n",
    "graph.add_node(\"greeting_node\", greeting_node)\n",
    "graph.add_node(\"random_node\", random_node)\n",
    "\n",
    "# Add edges to the graph\n",
    "graph.add_edge(START, \"greeting_node\")\n",
    "graph.add_edge(\"greeting_node\", \"random_node\")\n",
    "graph.add_conditional_edges(\n",
    "    \"random_node\",\n",
    "    should_continue,\n",
    "    {\n",
    "        \"loop\": \"random_node\",\n",
    "        \"exit\": END,\n",
    "    },\n",
    ")\n",
    "\n",
    "# Compile the graph\n",
    "app = graph.compile()"
   ]
  },
  {
   "cell_type": "code",
   "execution_count": 4,
   "id": "78b32436",
   "metadata": {},
   "outputs": [
    {
     "data": {
      "image/png": "[encoded data removed]",
      "text/plain": [
       "<IPython.core.display.Image object>"
      ]
     },
     "metadata": {},
     "output_type": "display_data"
    }
   ],
   "source": [
    "from IPython.display import Image, display\n",
    "\n",
    "display(Image(app.get_graph().draw_mermaid_png()))"
   ]
  },
  {
   "cell_type": "code",
   "execution_count": 5,
   "id": "42c98bcd",
   "metadata": {},
   "outputs": [
    {
     "name": "stdout",
     "output_type": "stream",
     "text": [
      "ENTERING LOOP 1\n",
      "ENTERING LOOP 2\n",
      "ENTERING LOOP 3\n",
      "ENTERING LOOP 4\n"
     ]
    },
    {
     "data": {
      "text/plain": [
       "{'name': 'Hi there, Yash', 'number': [2, 0, 4, 3, 1], 'counter': 5}"
      ]
     },
     "execution_count": 5,
     "metadata": {},
     "output_type": "execute_result"
    }
   ],
   "source": [
    "initial_state = AgentState(name=\"Yash\")\n",
    "result = app.invoke(initial_state)\n",
    "result"
   ]
  },
  {
   "cell_type": "markdown",
   "id": "0c7a2413",
   "metadata": {},
   "source": [
    "## Graph 2\n"
   ]
  },
  {
   "cell_type": "code",
   "execution_count": null,
   "id": "a2d327f5",
   "metadata": {},
   "outputs": [],
   "source": [
    "from typing import TypedDict, List\n",
    "\n",
    "\n",
    "class AgentState(TypedDict):\n",
    "    player_name: str\n",
    "    guesses: List[int]\n",
    "    attempts: int\n",
    "    lower_bound: int\n",
    "    upper_bound: int\n",
    "    answer: int"
   ]
  },
  {
   "cell_type": "code",
   "execution_count": 31,
   "id": "4d57abb4",
   "metadata": {},
   "outputs": [],
   "source": [
    "import random\n",
    "\n",
    "\n",
    "def setup_node(state: AgentState) -> AgentState:\n",
    "    \"\"\"This node is responsible to setup player\"\"\"\n",
    "\n",
    "    state[\"player_name\"] = f\"Hi {state[\"player_name\"]}, Welcome to the game\"\n",
    "    state[\"attempts\"] = 0\n",
    "    state[\"guesses\"] = []\n",
    "    return state\n",
    "\n",
    "\n",
    "def guess_node(state: AgentState) -> AgentState:\n",
    "    \"\"\"In this node, player will guess the random number\"\"\"\n",
    "\n",
    "    guess = random.randint(state[\"lower_bound\"], state[\"upper_bound\"])\n",
    "    state[\"guesses\"].append(guess)\n",
    "    state[\"attempts\"] += 1\n",
    "\n",
    "    return state\n",
    "\n",
    "\n",
    "def hint_node(state: AgentState) -> AgentState:\n",
    "    \"\"\"In this node, player will get the hint\"\"\"\n",
    "\n",
    "    guess = state[\"guesses\"][-1]\n",
    "    if state[\"answer\"] < guess:\n",
    "        print(\"Higer\")\n",
    "        state[\"upper_bound\"] = guess\n",
    "    elif guess < state[\"answer\"]:\n",
    "        print(\"Lower\")\n",
    "        state[\"lower_bound\"] = guess\n",
    "    return state\n",
    "\n",
    "\n",
    "def should_continue(state: AgentState) -> str:\n",
    "    \"\"\"Function to decide what to do next\"\"\"\n",
    "\n",
    "    if state[\"guesses\"][-1] == state[\"answer\"] or state[\"attempts\"] >= 7:\n",
    "        return \"end\"\n",
    "    return \"continue\""
   ]
  },
  {
   "cell_type": "code",
   "execution_count": 32,
   "id": "30282780",
   "metadata": {},
   "outputs": [],
   "source": [
    "from langgraph.graph import StateGraph, START, END\n",
    "\n",
    "graph = StateGraph(AgentState)\n",
    "\n",
    "# Add nodes to the graph\n",
    "graph.add_node(\"setup_node\", setup_node)\n",
    "graph.add_node(\"guess_node\", guess_node)\n",
    "graph.add_node(\"hint_node\", hint_node)\n",
    "\n",
    "# Add edges to the graph\n",
    "graph.add_edge(START, \"setup_node\")\n",
    "graph.add_edge(\"setup_node\", \"guess_node\")\n",
    "graph.add_edge(\"guess_node\", \"hint_node\")\n",
    "graph.add_conditional_edges(\n",
    "    \"hint_node\",\n",
    "    should_continue,\n",
    "    {\"continue\": \"guess_node\", \"end\": END},\n",
    ")\n",
    "\n",
    "# Compile the graph\n",
    "app = graph.compile()"
   ]
  },
  {
   "cell_type": "code",
   "execution_count": 33,
   "id": "bdba40d3",
   "metadata": {},
   "outputs": [
    {
     "data": {
      "image/png": "[encoded data removed]",
      "text/plain": [
       "<IPython.core.display.Image object>"
      ]
     },
     "metadata": {},
     "output_type": "display_data"
    }
   ],
   "source": [
    "from IPython.display import Image, display\n",
    "\n",
    "display(Image(app.get_graph().draw_mermaid_png()))"
   ]
  },
  {
   "cell_type": "code",
   "execution_count": 34,
   "id": "2f8a113f",
   "metadata": {},
   "outputs": [
    {
     "name": "stdout",
     "output_type": "stream",
     "text": [
      "Higer\n",
      "Lower\n",
      "Lower\n",
      "Higer\n",
      "Higer\n",
      "Lower\n",
      "Lower\n"
     ]
    },
    {
     "data": {
      "text/plain": [
       "{'player_name': 'Hi Yash, Welcome to the game',\n",
       " 'guesses': [19, 2, 14, 19, 19, 15, 15],\n",
       " 'attempts': 7,\n",
       " 'lower_bound': 15,\n",
       " 'upper_bound': 19,\n",
       " 'answer': 17}"
      ]
     },
     "execution_count": 34,
     "metadata": {},
     "output_type": "execute_result"
    }
   ],
   "source": [
    "initial_state = AgentState(player_name=\"Yash\", answer=17, lower_bound=1, upper_bound=20)\n",
    "result = app.invoke(initial_state)\n",
    "result"
   ]
  }
 ],
 "metadata": {
  "kernelspec": {
   "display_name": "langgraph-tutorial",
   "language": "python",
   "name": "python3"
  },
  "language_info": {
   "codemirror_mode": {
    "name": "ipython",
    "version": 3
   },
   "file_extension": ".py",
   "mimetype": "text/x-python",
   "name": "python",
   "nbconvert_exporter": "python",
   "pygments_lexer": "ipython3",
   "version": "3.13.5"
  }
 },
 "nbformat": 4,
 "nbformat_minor": 5
}
