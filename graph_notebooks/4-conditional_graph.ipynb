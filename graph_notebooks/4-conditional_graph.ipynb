{
 "cells": [
  {
   "cell_type": "markdown",
   "id": "bac3bcbe",
   "metadata": {},
   "source": [
    "# Conditional Graph\n",
    "\n",
    "---\n"
   ]
  },
  {
   "cell_type": "markdown",
   "id": "cfeab8cd",
   "metadata": {},
   "source": [
    "## Graph 1\n"
   ]
  },
  {
   "cell_type": "code",
   "execution_count": 1,
   "id": "0881edb3",
   "metadata": {},
   "outputs": [],
   "source": [
    "from typing import TypedDict\n",
    "\n",
    "\n",
    "class AgentState(TypedDict):\n",
    "    number_1: int\n",
    "    operation: str\n",
    "    number_2: int\n",
    "    final_number: int"
   ]
  },
  {
   "cell_type": "code",
   "execution_count": 2,
   "id": "c574300b",
   "metadata": {},
   "outputs": [],
   "source": [
    "def adder(state: AgentState) -> AgentState:\n",
    "    \"\"\"This node add the 2 numbers\"\"\"\n",
    "\n",
    "    state[\"final_number\"] = state[\"number_1\"] + state[\"number_2\"]\n",
    "    return state\n",
    "\n",
    "\n",
    "def subtractor(state: AgentState) -> AgentState:\n",
    "    \"\"\"This node subtract the 2 numbers\"\"\"\n",
    "\n",
    "    state[\"final_number\"] = state[\"number_1\"] - state[\"number_2\"]\n",
    "    return state\n",
    "\n",
    "\n",
    "def decide_next_node(state: AgentState) -> str:\n",
    "    \"\"\"This node will select the next phase of the graph\"\"\"\n",
    "\n",
    "    if state[\"operation\"] == \"+\":\n",
    "        return \"addition_operation\"\n",
    "    if state[\"operation\"] == \"-\":\n",
    "        return \"subtraction_operation\"\n",
    "    raise ValueError(\n",
    "        f\"Operation provided is wrong, operation provided: {state[\"operation\"]}, acceptable operations: [+, *]\"\n",
    "    )"
   ]
  },
  {
   "cell_type": "code",
   "execution_count": 3,
   "id": "96450eb0",
   "metadata": {},
   "outputs": [],
   "source": [
    "from langgraph.graph import StateGraph, START, END\n",
    "\n",
    "graph = StateGraph(AgentState)\n",
    "\n",
    "# Add nodes to the graph\n",
    "graph.add_node(\"add_node\", adder)\n",
    "graph.add_node(\"subtract_node\", subtractor)\n",
    "graph.add_node(\"decide_next_node\", lambda state: state)\n",
    "\n",
    "# Add edges to the node\n",
    "graph.add_edge(START, \"decide_next_node\")\n",
    "graph.add_conditional_edges(\n",
    "    \"decide_next_node\",\n",
    "    decide_next_node,\n",
    "    {\n",
    "        \"addition_operation\": \"add_node\",\n",
    "        \"subtraction_operation\": \"subtract_node\",\n",
    "    },\n",
    ")\n",
    "graph.add_edge(\"add_node\", END)\n",
    "graph.add_edge(\"subtract_node\", END)\n",
    "\n",
    "# Compile the graph\n",
    "app = graph.compile()"
   ]
  },
  {
   "cell_type": "code",
   "execution_count": 4,
   "id": "2ce51847",
   "metadata": {},
   "outputs": [
    {
     "data": {
      "image/png": "[encoded data removed]",
      "text/plain": [
       "<IPython.core.display.Image object>"
      ]
     },
     "metadata": {},
     "output_type": "display_data"
    }
   ],
   "source": [
    "from IPython.display import Image, display\n",
    "\n",
    "display(Image(app.get_graph().draw_mermaid_png()))"
   ]
  },
  {
   "cell_type": "code",
   "execution_count": 5,
   "id": "be6ce453",
   "metadata": {},
   "outputs": [
    {
     "data": {
      "text/plain": [
       "{'number_1': 20, 'operation': '+', 'number_2': 10, 'final_number': 30}"
      ]
     },
     "execution_count": 5,
     "metadata": {},
     "output_type": "execute_result"
    }
   ],
   "source": [
    "initial_state_1 = AgentState(number_1=20, operation=\"+\", number_2=10)\n",
    "result = app.invoke(initial_state_1)\n",
    "result"
   ]
  },
  {
   "cell_type": "code",
   "execution_count": 6,
   "id": "99e6d827",
   "metadata": {},
   "outputs": [
    {
     "data": {
      "text/plain": [
       "{'number_1': 20, 'operation': '-', 'number_2': 10, 'final_number': 10}"
      ]
     },
     "execution_count": 6,
     "metadata": {},
     "output_type": "execute_result"
    }
   ],
   "source": [
    "initial_state_2 = AgentState(number_1=20, operation=\"-\", number_2=10)\n",
    "result = app.invoke(initial_state_2)\n",
    "result"
   ]
  },
  {
   "cell_type": "markdown",
   "id": "70277217",
   "metadata": {},
   "source": [
    "## Graph 2\n"
   ]
  },
  {
   "cell_type": "code",
   "execution_count": 7,
   "id": "54111c61",
   "metadata": {},
   "outputs": [],
   "source": [
    "from typing import TypedDict\n",
    "\n",
    "\n",
    "class AgentState(TypedDict):\n",
    "    number_1: int\n",
    "    number_2: int\n",
    "    number_3: int\n",
    "    number_4: int\n",
    "    operation_1: str\n",
    "    operation_2: str\n",
    "    final_number_1: int\n",
    "    final_number_2: int"
   ]
  },
  {
   "cell_type": "code",
   "execution_count": 8,
   "id": "3a675549",
   "metadata": {},
   "outputs": [],
   "source": [
    "def adder_1(state: AgentState) -> AgentState:\n",
    "    \"\"\"This node add the 2 numbers\"\"\"\n",
    "\n",
    "    state[\"final_number_1\"] = state[\"number_1\"] + state[\"number_2\"]\n",
    "    return state\n",
    "\n",
    "\n",
    "def subtractor_1(state: AgentState) -> AgentState:\n",
    "    \"\"\"This node subtracts the 2 numbers\"\"\"\n",
    "\n",
    "    state[\"final_number_1\"] = state[\"number_1\"] - state[\"number_2\"]\n",
    "    return state\n",
    "\n",
    "\n",
    "def adder_2(state: AgentState) -> AgentState:\n",
    "    \"\"\"This node add the 2 numbers\"\"\"\n",
    "\n",
    "    state[\"final_number_2\"] = state[\"number_3\"] + state[\"number_4\"]\n",
    "    return state\n",
    "\n",
    "\n",
    "def subtractor_2(state: AgentState) -> AgentState:\n",
    "    \"\"\"This node subtracts the 2 numbers\"\"\"\n",
    "\n",
    "    state[\"final_number_2\"] = state[\"number_3\"] - state[\"number_4\"]\n",
    "    return state\n",
    "\n",
    "\n",
    "def decide_next_node_1(state: AgentState) -> str:\n",
    "    \"\"\"This node will select the next phase of the graph\"\"\"\n",
    "\n",
    "    if state[\"operation_1\"] == \"+\":\n",
    "        return \"addition_operation_1\"\n",
    "    if state[\"operation_1\"] == \"-\":\n",
    "        return \"subtraction_operation_1\"\n",
    "    raise ValueError(\n",
    "        f\"Operation provided is wrong, operation provided: {state[\"operation_1\"]}, acceptable operations: [+, *]\"\n",
    "    )\n",
    "\n",
    "\n",
    "def decide_next_node_2(state: AgentState) -> str:\n",
    "    \"\"\"This node will select the next phase of the graph\"\"\"\n",
    "\n",
    "    if state[\"operation_2\"] == \"+\":\n",
    "        return \"addition_operation_2\"\n",
    "    if state[\"operation_2\"] == \"-\":\n",
    "        return \"subtraction_operation_2\"\n",
    "    raise ValueError(\n",
    "        f\"Operation provided is wrong, operation provided: {state[\"operation_2\"]}, acceptable operations: [+, *]\"\n",
    "    )"
   ]
  },
  {
   "cell_type": "code",
   "execution_count": 13,
   "id": "dce5458a",
   "metadata": {},
   "outputs": [],
   "source": [
    "from langgraph.graph import StateGraph, START, END\n",
    "\n",
    "graph = StateGraph(AgentState)\n",
    "\n",
    "# Add nodes to the graph\n",
    "graph.add_node(\"add_node_1\", adder_1)\n",
    "graph.add_node(\"subtract_node_1\", subtractor_1)\n",
    "graph.add_node(\"decide_next_node_1\", lambda state: state)\n",
    "graph.add_node(\"add_node_2\", adder_2)\n",
    "graph.add_node(\"subtract_node_2\", subtractor_2)\n",
    "graph.add_node(\"decide_next_node_2\", lambda state: state)\n",
    "\n",
    "# Add edges to the graph\n",
    "graph.add_edge(START, \"decide_next_node_1\")\n",
    "graph.add_conditional_edges(\n",
    "    \"decide_next_node_1\",\n",
    "    decide_next_node_1,\n",
    "    {\n",
    "        \"addition_operation_1\": \"add_node_1\",\n",
    "        \"subtraction_operation_1\": \"subtract_node_1\",\n",
    "    },\n",
    ")\n",
    "graph.add_edge(\"add_node_1\", \"decide_next_node_2\")\n",
    "graph.add_edge(\"subtract_node_1\", \"decide_next_node_2\")\n",
    "graph.add_conditional_edges(\n",
    "    \"decide_next_node_2\",\n",
    "    decide_next_node_2,\n",
    "    {\n",
    "        \"addition_operation_2\": \"add_node_2\",\n",
    "        \"subtraction_operation_2\": \"subtract_node_2\",\n",
    "    },\n",
    ")\n",
    "graph.add_edge(\"add_node_2\", END)\n",
    "graph.add_edge(\"subtract_node_2\", END)\n",
    "\n",
    "# Compile the graph\n",
    "app = graph.compile()"
   ]
  },
  {
   "cell_type": "code",
   "execution_count": 14,
   "id": "bbde458e",
   "metadata": {},
   "outputs": [
    {
     "data": {
      "image/png": "[encoded data removed]",
      "text/plain": [
       "<IPython.core.display.Image object>"
      ]
     },
     "metadata": {},
     "output_type": "display_data"
    }
   ],
   "source": [
    "from IPython.display import Image, display\n",
    "\n",
    "display(Image(app.get_graph().draw_mermaid_png()))"
   ]
  },
  {
   "cell_type": "code",
   "execution_count": 15,
   "id": "0fb5eb5d",
   "metadata": {},
   "outputs": [
    {
     "data": {
      "text/plain": [
       "{'number_1': 40,\n",
       " 'number_2': 30,\n",
       " 'number_3': 20,\n",
       " 'number_4': 10,\n",
       " 'operation_1': '+',\n",
       " 'operation_2': '-',\n",
       " 'final_number_1': 70,\n",
       " 'final_number_2': 10}"
      ]
     },
     "execution_count": 15,
     "metadata": {},
     "output_type": "execute_result"
    }
   ],
   "source": [
    "initial_state = AgentState(number_1=40, number_2=30, number_3=20, number_4=10, operation_1=\"+\", operation_2=\"-\")\n",
    "result = app.invoke(initial_state)\n",
    "result"
   ]
  },
  {
   "cell_type": "code",
   "execution_count": null,
   "id": "9d454b47",
   "metadata": {},
   "outputs": [],
   "source": []
  }
 ],
 "metadata": {
  "kernelspec": {
   "display_name": "langgraph-tutorial",
   "language": "python",
   "name": "python3"
  },
  "language_info": {
   "codemirror_mode": {
    "name": "ipython",
    "version": 3
   },
   "file_extension": ".py",
   "mimetype": "text/x-python",
   "name": "python",
   "nbconvert_exporter": "python",
   "pygments_lexer": "ipython3",
   "version": "3.13.5"
  }
 },
 "nbformat": 4,
 "nbformat_minor": 5
}
